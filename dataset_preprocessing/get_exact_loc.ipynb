{
 "cells": [
  {
   "cell_type": "code",
   "execution_count": null,
   "metadata": {},
   "outputs": [],
   "source": [
    "\n",
    "import requests\n",
    "import json\n",
    "import time\n",
    "\n",
    "import csv\n",
    "import time\n",
    "import pandas as pd\n",
    "import numpy as np\n",
    "import os\n",
    "from tqdm import tqdm\n",
    "from geopy.extra.rate_limiter import RateLimiter\n",
    "import logging\n",
    "import re"
   ]
  },
  {
   "cell_type": "code",
   "execution_count": 2,
   "metadata": {},
   "outputs": [],
   "source": [
    "state_route_patterns = {\n",
    "    'AL': ['AL'],\n",
    "    'AK': ['AK'],\n",
    "    'AZ': ['AZ'],\n",
    "    'AR': ['AR'],\n",
    "    'CA': ['CA'],\n",
    "    'CO': ['CO'],\n",
    "    'CT': ['CT'],\n",
    "    'DE': ['DE'],\n",
    "    'FL': ['FL'],\n",
    "    'GA': ['GA'],\n",
    "    'HI': ['HI'],\n",
    "    'ID': ['ID'],\n",
    "    'IL': ['IL'],\n",
    "    'IN': ['IN'],\n",
    "    'IA': ['IA'],\n",
    "    'KS': ['K'],\n",
    "    'KY': ['KY'],\n",
    "    'LA': ['LA'],\n",
    "    'ME': ['ME'],\n",
    "    'MD': ['MD'],\n",
    "    'MA': ['MA'],\n",
    "    'MI': ['M'],\n",
    "    'MN': ['MN'],\n",
    "    'MS': ['MS'],\n",
    "    'MO': ['MO'],\n",
    "    'MT': ['MT'],\n",
    "    'NE': ['NE'],\n",
    "    'NV': ['NV'],\n",
    "    'NH': ['NH'],\n",
    "    'NJ': ['NJ'],\n",
    "    'NM': ['NM'],\n",
    "    'NY': ['NY'],\n",
    "    'NC': ['NC'],\n",
    "    'ND': ['ND'],\n",
    "    'OH': ['OH'],\n",
    "    'OK': ['OK'],\n",
    "    'OR': ['OR'],\n",
    "    'PA': ['PA'],\n",
    "    'RI': ['RI'],\n",
    "    'SC': ['SC'],\n",
    "    'SD': ['SD'],\n",
    "    'TN': ['TN'],\n",
    "    'TX': ['TX'],\n",
    "    'UT': ['UT'],\n",
    "    'VT': ['VT'],\n",
    "    'VA': ['VA'],\n",
    "    'WA': ['WA'],\n",
    "    'WV': ['WV'],\n",
    "    'WI': ['WI'],\n",
    "    'WY': ['WY']\n",
    "}"
   ]
  },
  {
   "cell_type": "code",
   "execution_count": 29,
   "metadata": {},
   "outputs": [],
   "source": [
    "queries = {\n",
    "    \"exit\":\"\"\"\n",
    "        [out:json][timeout:25];\n",
    "        // Define the area of interest\n",
    "        nwr(id:{})->.citySearch;\n",
    "\n",
    "\n",
    "        // Search for the road by name or ref\n",
    "        way[\"ref\"~\"(;|^){}(;|$)\"](around.citySearch:15000)->.road;\n",
    "\n",
    "        // Extract nodes of type 'motorway_junction' on the road\n",
    "        node(w.road)[\"highway\"=\"motorway_junction\"][\"ref\"~\"^{}([a-zA-Z]|$)\"]->.exits;\n",
    "\n",
    "        // Output all exit nodes with their coordinates\n",
    "        (.exits;); /*added by auto repair*/ (._;>;); /*end of auto repair*/ out body 1; \n",
    "    \"\"\",\n",
    "    \"junction\":\"\"\"\n",
    "        [out:json][timeout:25];\n",
    "\n",
    "        nr(id:{})->.citySearch;\n",
    "\n",
    "        way[\"ref\"~\"(;|^){}(;|$)\"](around.citySearch:15000)->.w1;\n",
    "        way[\"ref\"~\"(;|^){}(;|$)\"](around.citySearch:15000)->.w2;\n",
    "\n",
    "        // Get nodes that are part of w2\n",
    "        node(w.w2)->.nodes_on_w2;\n",
    "        node(w.w1)(w.w2) .on_both;\n",
    "        // Get nodes that are within 100 meters of w2 but not part of w2\n",
    "        node(w.w1)(around.w2:100)->.nodes_near_w2;\n",
    "        (.nodes_near_w2; - .nodes_on_w2;)->.inter;\n",
    "\n",
    "\n",
    "        // Output the result\n",
    "        (.inter;.on_both;); out body 1;\n",
    "        >;\n",
    "        out skel qt; \n",
    "    \"\"\",\n",
    "    \"road_city\":\"\"\"\n",
    "        [out:json][timeout:25];\n",
    "        // Define the area of interest\n",
    "        nr(id:{})->.citySearch;\n",
    "\n",
    "        // Search for the road by name or ref\n",
    "        way[\"ref\"~\"(;|^){}(;|$)\"](around.citySearch:15000)->.road;\n",
    "\n",
    "        // Output all city nodes with their coordinates\n",
    "        (.road;); /*added by auto repair*/ (._;>;); /*end of auto repair*/ out body 1; \n",
    "    \"\"\",\n",
    "}"
   ]
  },
  {
   "cell_type": "code",
   "execution_count": 41,
   "metadata": {},
   "outputs": [],
   "source": [
    "def parse_address(address):\n",
    "    # Initialize variables\n",
    "    roads_inter = []\n",
    "    roads_along = []\n",
    "    exit_number = None\n",
    "    road_to_exit = None\n",
    "    fall_back_road = None\n",
    "    addr = address\n",
    "    addr = addr.replace('/', ',')\n",
    "    addr = addr.replace('&', ',')\n",
    "    addr = addr.replace('-', ' ')\n",
    "    \n",
    "    \n",
    "    parts = [part.strip() for part in addr.split(',')]\n",
    "\n",
    "    exit_pattern = re.compile(r'^EXIT\\s?(\\d+(\\s|)[A-Z]?)', re.IGNORECASE)\n",
    "    \n",
    "    for idx,part in enumerate(parts):\n",
    "        \n",
    "        exit_match = exit_pattern.match(part)\n",
    "        if exit_match:\n",
    "            return parts[idx-1], exit_match.group(1), roads_inter, roads_along\n",
    "    \n",
    "    addr = address\n",
    "    addr = addr.replace('/', ',/,')\n",
    "    addr = addr.replace('&', ',&,')\n",
    "    addr = addr.replace('-', ' ')\n",
    "    \n",
    "    \n",
    "    parts = [part.strip() for part in addr.split(',')]\n",
    "    print(parts)\n",
    "    fall_back_road = parts[0]\n",
    "    \n",
    "    for idx,part in enumerate(parts):\n",
    "        \n",
    "        if part == \"&\" and len(roads_inter) == 0:\n",
    "            roads_inter.append(parts[idx-1])\n",
    "            roads_inter.append(parts[idx+1])\n",
    "        \n",
    "        if part == \"/\" and len(roads_along) == 0:\n",
    "            roads_along.append(parts[idx-1])\n",
    "            roads_along.append(parts[idx+1])\n",
    "            \n",
    "    \n",
    "\n",
    "    \n",
    "    return road_to_exit, exit_number, roads_inter, fall_back_road\n",
    "     "
   ]
  },
  {
   "cell_type": "code",
   "execution_count": 15,
   "metadata": {},
   "outputs": [],
   "source": [
    "def get_location_from_overpass(key, id, state, *args):\n",
    "    \n",
    "    # Overpass API endpoint\n",
    "    overpass_url = \"http://overpass-api.de/api/interpreter\"\n",
    "    \n",
    "    # Create the Overpass query\n",
    "    state_pattern = state_route_patterns[state][0]\n",
    "    if key == \"exit\":\n",
    "        road = args[0]\n",
    "        if args[0].startswith(\"SR\"):\n",
    "            road = args[0][2:]\n",
    "            s = \"(SH|SR|{})\".format(state_pattern)\n",
    "            road = s + road\n",
    "        query = queries[key].format(id, road,args[1])\n",
    "        \n",
    "    elif key == \"junction\":\n",
    "        road1 = args[2][0]\n",
    "        road2 = args[2][1]\n",
    "        if road1.startswith(\"SR\"):\n",
    "            road1 = road1[2:]\n",
    "            s = \"(SH|SR|{})\".format(state_pattern)\n",
    "            road1 = s + road1\n",
    "        if road2.startswith(\"SR\"):\n",
    "            road2 = road2[2:]\n",
    "            s = \"(SH|SR|{})\".format(state_pattern)\n",
    "            road2 = s + road2\n",
    "            \n",
    "        query = queries[key].format(id, road1, road2)\n",
    "    \n",
    "    elif key == \"road_city\":\n",
    "        road = args[3]\n",
    "        if road.startswith(\"SR\"):\n",
    "            road = road[2:]\n",
    "            s = \"(SH|SR|{})\".format(state_pattern)\n",
    "            road = s + road\n",
    "        query = queries[key].format(id, road)\n",
    "        \n",
    "    \n",
    "    print(query)\n",
    "    try:\n",
    "        # Add delay to respect rate limits\n",
    "        time.sleep(1)\n",
    "        \n",
    "        # Make the request\n",
    "        response = requests.get(overpass_url, params={'data': query})\n",
    "        response.raise_for_status()\n",
    "        \n",
    "        return response.json()\n",
    "    \n",
    "    except requests.exceptions.RequestException as e:\n",
    "        logging.error(f\"Error querying Overpass API: {str(e)}\")\n",
    "        return None\n",
    "    \n"
   ]
  },
  {
   "cell_type": "code",
   "execution_count": 42,
   "metadata": {},
   "outputs": [
    {
     "name": "stdout",
     "output_type": "stream",
     "text": [
      "('I 94', '15 B', [], [])\n"
     ]
    }
   ],
   "source": [
    "def get_query_type(road_to_exit, exit_number, roads_inter, fall_back_road):\n",
    "    if exit_number is not None and road_to_exit is not None:\n",
    "        # If we have an exit number and road, we need the exit query\n",
    "        return \"exit\"\n",
    "    elif len(roads_inter) == 2:\n",
    "        # If we have two intersecting roads, we need the junction query\n",
    "        return \"junction\"\n",
    "    elif fall_back_road is not None:\n",
    "        # If we only have a road name, use the road_city query\n",
    "        return \"road_city\"\n",
    "    else:\n",
    "        return None\n",
    "    \n",
    "args = parse_address(\"I-94, EXIT 15 B\")\n",
    "print(args)\n"
   ]
  },
  {
   "cell_type": "code",
   "execution_count": 38,
   "metadata": {},
   "outputs": [
    {
     "name": "stderr",
     "output_type": "stream",
     "text": [
      "  0%|          | 0/8160 [00:00<?, ?it/s]"
     ]
    },
    {
     "name": "stdout",
     "output_type": "stream",
     "text": [
      "\n",
      "        [out:json][timeout:25];\n",
      "        // Define the area of interest\n",
      "        nwr(id:184155.0)->.citySearch;\n",
      "\n",
      "\n",
      "        // Search for the road by name or ref\n",
      "        way[\"ref\"~\"(;|^)I 44(;|$)\"](around.citySearch:15000)->.road;\n",
      "\n",
      "        // Extract nodes of type 'motorway_junction' on the road\n",
      "        node(w.road)[\"highway\"=\"motorway_junction\"][\"ref\"~\"^283([a-zA-Z]|$)\"]->.exits;\n",
      "\n",
      "        // Output all exit nodes with their coordinates\n",
      "        (.exits;); /*added by auto repair*/ (._;>;); /*end of auto repair*/ out body 1; \n",
      "    \n"
     ]
    },
    {
     "name": "stderr",
     "output_type": "stream",
     "text": [
      "  0%|          | 1/8160 [00:03<7:00:29,  3.09s/it]"
     ]
    },
    {
     "name": "stdout",
     "output_type": "stream",
     "text": [
      "\n",
      "        [out:json][timeout:25];\n",
      "        // Define the area of interest\n",
      "        nwr(id:251430.0)->.citySearch;\n",
      "\n",
      "\n",
      "        // Search for the road by name or ref\n",
      "        way[\"ref\"~\"(;|^)I 94(;|$)\"](around.citySearch:15000)->.road;\n",
      "\n",
      "        // Extract nodes of type 'motorway_junction' on the road\n",
      "        node(w.road)[\"highway\"=\"motorway_junction\"][\"ref\"~\"^143([a-zA-Z]|$)\"]->.exits;\n",
      "\n",
      "        // Output all exit nodes with their coordinates\n",
      "        (.exits;); /*added by auto repair*/ (._;>;); /*end of auto repair*/ out body 1; \n",
      "    \n"
     ]
    },
    {
     "name": "stderr",
     "output_type": "stream",
     "text": [
      "  0%|          | 2/8160 [00:06<6:54:49,  3.05s/it]"
     ]
    },
    {
     "name": "stdout",
     "output_type": "stream",
     "text": [
      "\n",
      "        [out:json][timeout:25];\n",
      "        // Define the area of interest\n",
      "        nwr(id:110801.0)->.citySearch;\n",
      "\n",
      "\n",
      "        // Search for the road by name or ref\n",
      "        way[\"ref\"~\"(;|^)I 8(;|$)\"](around.citySearch:15000)->.road;\n",
      "\n",
      "        // Extract nodes of type 'motorway_junction' on the road\n",
      "        node(w.road)[\"highway\"=\"motorway_junction\"][\"ref\"~\"^119([a-zA-Z]|$)\"]->.exits;\n",
      "\n",
      "        // Output all exit nodes with their coordinates\n",
      "        (.exits;); /*added by auto repair*/ (._;>;); /*end of auto repair*/ out body 1; \n",
      "    \n"
     ]
    },
    {
     "name": "stderr",
     "output_type": "stream",
     "text": [
      "  0%|          | 3/8160 [00:09<7:45:46,  3.43s/it]"
     ]
    },
    {
     "name": "stdout",
     "output_type": "stream",
     "text": [
      "\n",
      "        [out:json][timeout:25];\n",
      "        // Define the area of interest\n",
      "        nwr(id:111293.0)->.citySearch;\n",
      "\n",
      "\n",
      "        // Search for the road by name or ref\n",
      "        way[\"ref\"~\"(;|^)I 540(;|$)\"](around.citySearch:15000)->.road;\n",
      "\n",
      "        // Extract nodes of type 'motorway_junction' on the road\n",
      "        node(w.road)[\"highway\"=\"motorway_junction\"][\"ref\"~\"^12([a-zA-Z]|$)\"]->.exits;\n",
      "\n",
      "        // Output all exit nodes with their coordinates\n",
      "        (.exits;); /*added by auto repair*/ (._;>;); /*end of auto repair*/ out body 1; \n",
      "    \n"
     ]
    },
    {
     "name": "stderr",
     "output_type": "stream",
     "text": [
      "  0%|          | 4/8160 [00:12<7:12:03,  3.18s/it]"
     ]
    },
    {
     "name": "stdout",
     "output_type": "stream",
     "text": [
      "['US 46']\n",
      "\n",
      "        [out:json][timeout:25];\n",
      "        // Define the area of interest\n",
      "        nr(id:18406095.0)->.citySearch;\n",
      "\n",
      "        // Search for the road by name or ref\n",
      "        way[\"ref\"~\"(;|^)US 46(;|$)\"](around.citySearch:15000)->.road;\n",
      "\n",
      "        // Output all city nodes with their coordinates\n",
      "        (.road;); /*added by auto repair*/ (._;>;); /*end of auto repair*/ out body 1; \n",
      "    \n"
     ]
    },
    {
     "name": "stderr",
     "output_type": "stream",
     "text": [
      "  0%|          | 5/8160 [00:15<6:57:07,  3.07s/it]"
     ]
    },
    {
     "name": "stdout",
     "output_type": "stream",
     "text": [
      "\n",
      "        [out:json][timeout:25];\n",
      "        // Define the area of interest\n",
      "        nwr(id:207005.0)->.citySearch;\n",
      "\n",
      "\n",
      "        // Search for the road by name or ref\n",
      "        way[\"ref\"~\"(;|^)I 81(;|$)\"](around.citySearch:15000)->.road;\n",
      "\n",
      "        // Extract nodes of type 'motorway_junction' on the road\n",
      "        node(w.road)[\"highway\"=\"motorway_junction\"][\"ref\"~\"^273([a-zA-Z]|$)\"]->.exits;\n",
      "\n",
      "        // Output all exit nodes with their coordinates\n",
      "        (.exits;); /*added by auto repair*/ (._;>;); /*end of auto repair*/ out body 1; \n",
      "    \n"
     ]
    },
    {
     "name": "stderr",
     "output_type": "stream",
     "text": [
      "  0%|          | 6/8160 [00:18<6:54:33,  3.05s/it]"
     ]
    },
    {
     "name": "stdout",
     "output_type": "stream",
     "text": [
      "\n",
      "        [out:json][timeout:25];\n",
      "        // Define the area of interest\n",
      "        nwr(id:6584713.0)->.citySearch;\n",
      "\n",
      "\n",
      "        // Search for the road by name or ref\n",
      "        way[\"ref\"~\"(;|^)I 35(;|$)\"](around.citySearch:15000)->.road;\n",
      "\n",
      "        // Extract nodes of type 'motorway_junction' on the road\n",
      "        node(w.road)[\"highway\"=\"motorway_junction\"][\"ref\"~\"^271([a-zA-Z]|$)\"]->.exits;\n",
      "\n",
      "        // Output all exit nodes with their coordinates\n",
      "        (.exits;); /*added by auto repair*/ (._;>;); /*end of auto repair*/ out body 1; \n",
      "    \n"
     ]
    },
    {
     "name": "stderr",
     "output_type": "stream",
     "text": [
      "  0%|          | 7/8160 [00:22<7:16:13,  3.21s/it]"
     ]
    },
    {
     "name": "stdout",
     "output_type": "stream",
     "text": [
      "\n",
      "        [out:json][timeout:25];\n",
      "        // Define the area of interest\n",
      "        nwr(id:110345.0)->.citySearch;\n",
      "\n",
      "\n",
      "        // Search for the road by name or ref\n",
      "        way[\"ref\"~\"(;|^)I 85(;|$)\"](around.citySearch:15000)->.road;\n",
      "\n",
      "        // Extract nodes of type 'motorway_junction' on the road\n",
      "        node(w.road)[\"highway\"=\"motorway_junction\"][\"ref\"~\"^22([a-zA-Z]|$)\"]->.exits;\n",
      "\n",
      "        // Output all exit nodes with their coordinates\n",
      "        (.exits;); /*added by auto repair*/ (._;>;); /*end of auto repair*/ out body 1; \n",
      "    \n"
     ]
    },
    {
     "name": "stderr",
     "output_type": "stream",
     "text": [
      "  0%|          | 8/8160 [00:24<6:57:18,  3.07s/it]"
     ]
    },
    {
     "name": "stdout",
     "output_type": "stream",
     "text": [
      "\n",
      "        [out:json][timeout:25];\n",
      "        // Define the area of interest\n",
      "        nwr(id:127590.0)->.citySearch;\n",
      "\n",
      "\n",
      "        // Search for the road by name or ref\n",
      "        way[\"ref\"~\"(;|^)I 65(;|$)\"](around.citySearch:15000)->.road;\n",
      "\n",
      "        // Extract nodes of type 'motorway_junction' on the road\n",
      "        node(w.road)[\"highway\"=\"motorway_junction\"][\"ref\"~\"^50([a-zA-Z]|$)\"]->.exits;\n",
      "\n",
      "        // Output all exit nodes with their coordinates\n",
      "        (.exits;); /*added by auto repair*/ (._;>;); /*end of auto repair*/ out body 1; \n",
      "    \n"
     ]
    },
    {
     "name": "stderr",
     "output_type": "stream",
     "text": [
      "  0%|          | 9/8160 [00:27<6:47:40,  3.00s/it]"
     ]
    },
    {
     "name": "stdout",
     "output_type": "stream",
     "text": [
      "\n",
      "        [out:json][timeout:25];\n",
      "        // Define the area of interest\n",
      "        nwr(id:184155.0)->.citySearch;\n",
      "\n",
      "\n",
      "        // Search for the road by name or ref\n",
      "        way[\"ref\"~\"(;|^)I 44(;|$)\"](around.citySearch:15000)->.road;\n",
      "\n",
      "        // Extract nodes of type 'motorway_junction' on the road\n",
      "        node(w.road)[\"highway\"=\"motorway_junction\"][\"ref\"~\"^283([a-zA-Z]|$)\"]->.exits;\n",
      "\n",
      "        // Output all exit nodes with their coordinates\n",
      "        (.exits;); /*added by auto repair*/ (._;>;); /*end of auto repair*/ out body 1; \n",
      "    \n"
     ]
    },
    {
     "name": "stderr",
     "output_type": "stream",
     "text": [
      "  0%|          | 10/8160 [00:30<6:26:29,  2.85s/it]"
     ]
    },
    {
     "name": "stdout",
     "output_type": "stream",
     "text": [
      "\n",
      "        [out:json][timeout:25];\n",
      "        // Define the area of interest\n",
      "        nwr(id:251430.0)->.citySearch;\n",
      "\n",
      "\n",
      "        // Search for the road by name or ref\n",
      "        way[\"ref\"~\"(;|^)I 94(;|$)\"](around.citySearch:15000)->.road;\n",
      "\n",
      "        // Extract nodes of type 'motorway_junction' on the road\n",
      "        node(w.road)[\"highway\"=\"motorway_junction\"][\"ref\"~\"^143([a-zA-Z]|$)\"]->.exits;\n",
      "\n",
      "        // Output all exit nodes with their coordinates\n",
      "        (.exits;); /*added by auto repair*/ (._;>;); /*end of auto repair*/ out body 1; \n",
      "    \n"
     ]
    },
    {
     "name": "stderr",
     "output_type": "stream",
     "text": [
      "  0%|          | 11/8160 [00:33<6:20:52,  2.80s/it]"
     ]
    },
    {
     "name": "stdout",
     "output_type": "stream",
     "text": [
      "\n",
      "        [out:json][timeout:25];\n",
      "        // Define the area of interest\n",
      "        nwr(id:110801.0)->.citySearch;\n",
      "\n",
      "\n",
      "        // Search for the road by name or ref\n",
      "        way[\"ref\"~\"(;|^)I 8(;|$)\"](around.citySearch:15000)->.road;\n",
      "\n",
      "        // Extract nodes of type 'motorway_junction' on the road\n",
      "        node(w.road)[\"highway\"=\"motorway_junction\"][\"ref\"~\"^119([a-zA-Z]|$)\"]->.exits;\n",
      "\n",
      "        // Output all exit nodes with their coordinates\n",
      "        (.exits;); /*added by auto repair*/ (._;>;); /*end of auto repair*/ out body 1; \n",
      "    \n"
     ]
    },
    {
     "name": "stderr",
     "output_type": "stream",
     "text": [
      "  0%|          | 12/8160 [00:35<6:22:07,  2.81s/it]"
     ]
    },
    {
     "name": "stdout",
     "output_type": "stream",
     "text": [
      "\n",
      "        [out:json][timeout:25];\n",
      "        // Define the area of interest\n",
      "        nwr(id:110801.0)->.citySearch;\n",
      "\n",
      "\n",
      "        // Search for the road by name or ref\n",
      "        way[\"ref\"~\"(;|^)I 8(;|$)\"](around.citySearch:15000)->.road;\n",
      "\n",
      "        // Extract nodes of type 'motorway_junction' on the road\n",
      "        node(w.road)[\"highway\"=\"motorway_junction\"][\"ref\"~\"^119([a-zA-Z]|$)\"]->.exits;\n",
      "\n",
      "        // Output all exit nodes with their coordinates\n",
      "        (.exits;); /*added by auto repair*/ (._;>;); /*end of auto repair*/ out body 1; \n",
      "    \n"
     ]
    },
    {
     "name": "stderr",
     "output_type": "stream",
     "text": [
      "  0%|          | 13/8160 [00:39<6:36:59,  2.92s/it]"
     ]
    },
    {
     "name": "stdout",
     "output_type": "stream",
     "text": [
      "\n",
      "        [out:json][timeout:25];\n",
      "        // Define the area of interest\n",
      "        nwr(id:111293.0)->.citySearch;\n",
      "\n",
      "\n",
      "        // Search for the road by name or ref\n",
      "        way[\"ref\"~\"(;|^)I 540(;|$)\"](around.citySearch:15000)->.road;\n",
      "\n",
      "        // Extract nodes of type 'motorway_junction' on the road\n",
      "        node(w.road)[\"highway\"=\"motorway_junction\"][\"ref\"~\"^12([a-zA-Z]|$)\"]->.exits;\n",
      "\n",
      "        // Output all exit nodes with their coordinates\n",
      "        (.exits;); /*added by auto repair*/ (._;>;); /*end of auto repair*/ out body 1; \n",
      "    \n"
     ]
    },
    {
     "name": "stderr",
     "output_type": "stream",
     "text": [
      "  0%|          | 14/8160 [00:44<8:21:10,  3.69s/it]"
     ]
    },
    {
     "name": "stdout",
     "output_type": "stream",
     "text": [
      "['US 46']\n",
      "\n",
      "        [out:json][timeout:25];\n",
      "        // Define the area of interest\n",
      "        nr(id:18406095.0)->.citySearch;\n",
      "\n",
      "        // Search for the road by name or ref\n",
      "        way[\"ref\"~\"(;|^)US 46(;|$)\"](around.citySearch:15000)->.road;\n",
      "\n",
      "        // Output all city nodes with their coordinates\n",
      "        (.road;); /*added by auto repair*/ (._;>;); /*end of auto repair*/ out body 1; \n",
      "    \n"
     ]
    },
    {
     "name": "stderr",
     "output_type": "stream",
     "text": [
      "  0%|          | 15/8160 [00:46<7:26:01,  3.29s/it]"
     ]
    },
    {
     "name": "stdout",
     "output_type": "stream",
     "text": [
      "\n",
      "        [out:json][timeout:25];\n",
      "        // Define the area of interest\n",
      "        nwr(id:207005.0)->.citySearch;\n",
      "\n",
      "\n",
      "        // Search for the road by name or ref\n",
      "        way[\"ref\"~\"(;|^)I 81(;|$)\"](around.citySearch:15000)->.road;\n",
      "\n",
      "        // Extract nodes of type 'motorway_junction' on the road\n",
      "        node(w.road)[\"highway\"=\"motorway_junction\"][\"ref\"~\"^273([a-zA-Z]|$)\"]->.exits;\n",
      "\n",
      "        // Output all exit nodes with their coordinates\n",
      "        (.exits;); /*added by auto repair*/ (._;>;); /*end of auto repair*/ out body 1; \n",
      "    \n"
     ]
    },
    {
     "name": "stderr",
     "output_type": "stream",
     "text": [
      "  0%|          | 16/8160 [00:49<6:58:33,  3.08s/it]"
     ]
    },
    {
     "name": "stdout",
     "output_type": "stream",
     "text": [
      "\n",
      "        [out:json][timeout:25];\n",
      "        // Define the area of interest\n",
      "        nwr(id:6584713.0)->.citySearch;\n",
      "\n",
      "\n",
      "        // Search for the road by name or ref\n",
      "        way[\"ref\"~\"(;|^)I 35(;|$)\"](around.citySearch:15000)->.road;\n",
      "\n",
      "        // Extract nodes of type 'motorway_junction' on the road\n",
      "        node(w.road)[\"highway\"=\"motorway_junction\"][\"ref\"~\"^271([a-zA-Z]|$)\"]->.exits;\n",
      "\n",
      "        // Output all exit nodes with their coordinates\n",
      "        (.exits;); /*added by auto repair*/ (._;>;); /*end of auto repair*/ out body 1; \n",
      "    \n"
     ]
    },
    {
     "name": "stderr",
     "output_type": "stream",
     "text": [
      "  0%|          | 17/8160 [00:51<6:34:57,  2.91s/it]"
     ]
    },
    {
     "name": "stdout",
     "output_type": "stream",
     "text": [
      "\n",
      "        [out:json][timeout:25];\n",
      "        // Define the area of interest\n",
      "        nwr(id:110345.0)->.citySearch;\n",
      "\n",
      "\n",
      "        // Search for the road by name or ref\n",
      "        way[\"ref\"~\"(;|^)I 85(;|$)\"](around.citySearch:15000)->.road;\n",
      "\n",
      "        // Extract nodes of type 'motorway_junction' on the road\n",
      "        node(w.road)[\"highway\"=\"motorway_junction\"][\"ref\"~\"^22([a-zA-Z]|$)\"]->.exits;\n",
      "\n",
      "        // Output all exit nodes with their coordinates\n",
      "        (.exits;); /*added by auto repair*/ (._;>;); /*end of auto repair*/ out body 1; \n",
      "    \n"
     ]
    },
    {
     "name": "stderr",
     "output_type": "stream",
     "text": [
      "  0%|          | 18/8160 [00:54<6:38:07,  2.93s/it]"
     ]
    },
    {
     "name": "stdout",
     "output_type": "stream",
     "text": [
      "\n",
      "        [out:json][timeout:25];\n",
      "        // Define the area of interest\n",
      "        nwr(id:127590.0)->.citySearch;\n",
      "\n",
      "\n",
      "        // Search for the road by name or ref\n",
      "        way[\"ref\"~\"(;|^)I 65(;|$)\"](around.citySearch:15000)->.road;\n",
      "\n",
      "        // Extract nodes of type 'motorway_junction' on the road\n",
      "        node(w.road)[\"highway\"=\"motorway_junction\"][\"ref\"~\"^50([a-zA-Z]|$)\"]->.exits;\n",
      "\n",
      "        // Output all exit nodes with their coordinates\n",
      "        (.exits;); /*added by auto repair*/ (._;>;); /*end of auto repair*/ out body 1; \n",
      "    \n"
     ]
    },
    {
     "name": "stderr",
     "output_type": "stream",
     "text": [
      "  0%|          | 19/8160 [00:57<6:32:54,  2.90s/it]"
     ]
    },
    {
     "name": "stdout",
     "output_type": "stream",
     "text": [
      "\n",
      "        [out:json][timeout:25];\n",
      "        // Define the area of interest\n",
      "        nwr(id:128357.0)->.citySearch;\n",
      "\n",
      "\n",
      "        // Search for the road by name or ref\n",
      "        way[\"ref\"~\"(;|^)I 80(;|$)\"](around.citySearch:15000)->.road;\n",
      "\n",
      "        // Extract nodes of type 'motorway_junction' on the road\n",
      "        node(w.road)[\"highway\"=\"motorway_junction\"][\"ref\"~\"^3([a-zA-Z]|$)\"]->.exits;\n",
      "\n",
      "        // Output all exit nodes with their coordinates\n",
      "        (.exits;); /*added by auto repair*/ (._;>;); /*end of auto repair*/ out body 1; \n",
      "    \n"
     ]
    },
    {
     "name": "stderr",
     "output_type": "stream",
     "text": [
      "  0%|          | 20/8160 [01:00<6:17:20,  2.78s/it]"
     ]
    },
    {
     "name": "stdout",
     "output_type": "stream",
     "text": [
      "\n",
      "        [out:json][timeout:25];\n",
      "        // Define the area of interest\n",
      "        nwr(id:151424361.0)->.citySearch;\n",
      "\n",
      "\n",
      "        // Search for the road by name or ref\n",
      "        way[\"ref\"~\"(;|^)I 94(;|$)\"](around.citySearch:15000)->.road;\n",
      "\n",
      "        // Extract nodes of type 'motorway_junction' on the road\n",
      "        node(w.road)[\"highway\"=\"motorway_junction\"][\"ref\"~\"^182([a-zA-Z]|$)\"]->.exits;\n",
      "\n",
      "        // Output all exit nodes with their coordinates\n",
      "        (.exits;); /*added by auto repair*/ (._;>;); /*end of auto repair*/ out body 1; \n",
      "    \n"
     ]
    },
    {
     "name": "stderr",
     "output_type": "stream",
     "text": [
      "  0%|          | 21/8160 [01:03<6:32:49,  2.90s/it]"
     ]
    },
    {
     "name": "stdout",
     "output_type": "stream",
     "text": [
      "['US 50']\n",
      "\n",
      "        [out:json][timeout:25];\n",
      "        // Define the area of interest\n",
      "        nr(id:421142.0)->.citySearch;\n",
      "\n",
      "        // Search for the road by name or ref\n",
      "        way[\"ref\"~\"(;|^)US 50(;|$)\"](around.citySearch:15000)->.road;\n",
      "\n",
      "        // Output all city nodes with their coordinates\n",
      "        (.road;); /*added by auto repair*/ (._;>;); /*end of auto repair*/ out body 1; \n",
      "    \n"
     ]
    },
    {
     "name": "stderr",
     "output_type": "stream",
     "text": [
      "  0%|          | 22/8160 [01:08<7:40:38,  3.40s/it]"
     ]
    },
    {
     "name": "stdout",
     "output_type": "stream",
     "text": [
      "['US 13']\n",
      "\n",
      "        [out:json][timeout:25];\n",
      "        // Define the area of interest\n",
      "        nr(id:117164.0)->.citySearch;\n",
      "\n",
      "        // Search for the road by name or ref\n",
      "        way[\"ref\"~\"(;|^)US 13(;|$)\"](around.citySearch:15000)->.road;\n",
      "\n",
      "        // Output all city nodes with their coordinates\n",
      "        (.road;); /*added by auto repair*/ (._;>;); /*end of auto repair*/ out body 1; \n",
      "    \n"
     ]
    },
    {
     "name": "stderr",
     "output_type": "stream",
     "text": [
      "  0%|          | 23/8160 [01:10<7:21:59,  3.26s/it]"
     ]
    },
    {
     "name": "stdout",
     "output_type": "stream",
     "text": [
      "['US 13', '&', 'US 40']\n",
      "\n",
      "        [out:json][timeout:25];\n",
      "\n",
      "        nr(id:1245077.0)->.citySearch;\n",
      "\n",
      "        way[\"ref\"~\"(;|^)US 13(;|$)\"](around.citySearch:15000)->.w1;\n",
      "        way[\"ref\"~\"(;|^)US 40(;|$)\"](around.citySearch:15000)->.w2;\n",
      "\n",
      "        // Get nodes that are part of w2\n",
      "        node(w.w2)->.nodes_on_w2;\n",
      "        node(w.w1)(w.w2) .on_both;\n",
      "        // Get nodes that are within 100 meters of w2 but not part of w2\n",
      "        node(w.w1)(around.w2:100)->.nodes_near_w2;\n",
      "        (.nodes_near_w2; - .nodes_on_w2;)->.inter;\n",
      "\n",
      "\n",
      "        // Output the result\n",
      "        (.inter;.on_both;); out body 1;\n",
      "        >;\n",
      "        out skel qt; \n",
      "    \n"
     ]
    },
    {
     "name": "stderr",
     "output_type": "stream",
     "text": [
      "  0%|          | 24/8160 [01:20<11:29:52,  5.09s/it]"
     ]
    },
    {
     "name": "stdout",
     "output_type": "stream",
     "text": [
      "\n",
      "        [out:json][timeout:25];\n",
      "        // Define the area of interest\n",
      "        nwr(id:33613878.0)->.citySearch;\n",
      "\n",
      "\n",
      "        // Search for the road by name or ref\n",
      "        way[\"ref\"~\"(;|^)I 75(;|$)\"](around.citySearch:15000)->.road;\n",
      "\n",
      "        // Extract nodes of type 'motorway_junction' on the road\n",
      "        node(w.road)[\"highway\"=\"motorway_junction\"][\"ref\"~\"^224([a-zA-Z]|$)\"]->.exits;\n",
      "\n",
      "        // Output all exit nodes with their coordinates\n",
      "        (.exits;); /*added by auto repair*/ (._;>;); /*end of auto repair*/ out body 1; \n",
      "    \n"
     ]
    },
    {
     "name": "stderr",
     "output_type": "stream",
     "text": [
      "  0%|          | 25/8160 [01:23<9:59:28,  4.42s/it] "
     ]
    },
    {
     "name": "stdout",
     "output_type": "stream",
     "text": [
      "\n",
      "        [out:json][timeout:25];\n",
      "        // Define the area of interest\n",
      "        nwr(id:151370749.0)->.citySearch;\n",
      "\n",
      "\n",
      "        // Search for the road by name or ref\n",
      "        way[\"ref\"~\"(;|^)I 70(;|$)\"](around.citySearch:15000)->.road;\n",
      "\n",
      "        // Extract nodes of type 'motorway_junction' on the road\n",
      "        node(w.road)[\"highway\"=\"motorway_junction\"][\"ref\"~\"^234([a-zA-Z]|$)\"]->.exits;\n",
      "\n",
      "        // Output all exit nodes with their coordinates\n",
      "        (.exits;); /*added by auto repair*/ (._;>;); /*end of auto repair*/ out body 1; \n",
      "    \n"
     ]
    },
    {
     "name": "stderr",
     "output_type": "stream",
     "text": [
      "  0%|          | 26/8160 [01:26<9:05:35,  4.02s/it]"
     ]
    },
    {
     "name": "stdout",
     "output_type": "stream",
     "text": [
      "\n",
      "        [out:json][timeout:25];\n",
      "        // Define the area of interest\n",
      "        nwr(id:119683.0)->.citySearch;\n",
      "\n",
      "\n",
      "        // Search for the road by name or ref\n",
      "        way[\"ref\"~\"(;|^)ST 22(;|$)\"](around.citySearch:15000)->.road;\n",
      "\n",
      "        // Extract nodes of type 'motorway_junction' on the road\n",
      "        node(w.road)[\"highway\"=\"motorway_junction\"][\"ref\"~\"^55([a-zA-Z]|$)\"]->.exits;\n",
      "\n",
      "        // Output all exit nodes with their coordinates\n",
      "        (.exits;); /*added by auto repair*/ (._;>;); /*end of auto repair*/ out body 1; \n",
      "    \n"
     ]
    },
    {
     "name": "stderr",
     "output_type": "stream",
     "text": [
      "  0%|          | 27/8160 [01:29<8:37:16,  3.82s/it]"
     ]
    },
    {
     "name": "stdout",
     "output_type": "stream",
     "text": [
      "['I 75', 'EXIT 144 B']\n",
      "\n",
      "        [out:json][timeout:25];\n",
      "        // Define the area of interest\n",
      "        nr(id:154205298.0)->.citySearch;\n",
      "\n",
      "        // Search for the road by name or ref\n",
      "        way[\"ref\"~\"(;|^)EXIT 144 B(;|$)\"](around.citySearch:15000)->.road;\n",
      "\n",
      "        // Output all city nodes with their coordinates\n",
      "        (.road;); /*added by auto repair*/ (._;>;); /*end of auto repair*/ out body 1; \n",
      "    \n"
     ]
    },
    {
     "name": "stderr",
     "output_type": "stream",
     "text": [
      "  0%|          | 28/8160 [01:32<8:00:06,  3.54s/it]"
     ]
    },
    {
     "name": "stdout",
     "output_type": "stream",
     "text": [
      "['I 75', 'EXIT 144 B']\n",
      "\n",
      "        [out:json][timeout:25];\n",
      "        // Define the area of interest\n",
      "        nr(id:154205298.0)->.citySearch;\n",
      "\n",
      "        // Search for the road by name or ref\n",
      "        way[\"ref\"~\"(;|^)EXIT 144 B(;|$)\"](around.citySearch:15000)->.road;\n",
      "\n",
      "        // Output all city nodes with their coordinates\n",
      "        (.road;); /*added by auto repair*/ (._;>;); /*end of auto repair*/ out body 1; \n",
      "    \n"
     ]
    },
    {
     "name": "stderr",
     "output_type": "stream",
     "text": [
      "  0%|          | 29/8160 [01:35<7:26:17,  3.29s/it]"
     ]
    },
    {
     "name": "stdout",
     "output_type": "stream",
     "text": [
      "['I 75', 'EXIT 144 B']\n",
      "\n",
      "        [out:json][timeout:25];\n",
      "        // Define the area of interest\n",
      "        nr(id:154205298.0)->.citySearch;\n",
      "\n",
      "        // Search for the road by name or ref\n",
      "        way[\"ref\"~\"(;|^)EXIT 144 B(;|$)\"](around.citySearch:15000)->.road;\n",
      "\n",
      "        // Output all city nodes with their coordinates\n",
      "        (.road;); /*added by auto repair*/ (._;>;); /*end of auto repair*/ out body 1; \n",
      "    \n"
     ]
    },
    {
     "name": "stderr",
     "output_type": "stream",
     "text": [
      "  0%|          | 30/8160 [01:38<7:36:13,  3.37s/it]"
     ]
    },
    {
     "name": "stdout",
     "output_type": "stream",
     "text": [
      "['I 75', 'EXIT 144 B']\n",
      "\n",
      "        [out:json][timeout:25];\n",
      "        // Define the area of interest\n",
      "        nr(id:154205298.0)->.citySearch;\n",
      "\n",
      "        // Search for the road by name or ref\n",
      "        way[\"ref\"~\"(;|^)EXIT 144 B(;|$)\"](around.citySearch:15000)->.road;\n",
      "\n",
      "        // Output all city nodes with their coordinates\n",
      "        (.road;); /*added by auto repair*/ (._;>;); /*end of auto repair*/ out body 1; \n",
      "    \n"
     ]
    },
    {
     "name": "stderr",
     "output_type": "stream",
     "text": [
      "  0%|          | 31/8160 [01:41<7:11:46,  3.19s/it]"
     ]
    },
    {
     "name": "stdout",
     "output_type": "stream",
     "text": [
      "['I 75', 'EXIT 144 B']\n",
      "\n",
      "        [out:json][timeout:25];\n",
      "        // Define the area of interest\n",
      "        nr(id:154205298.0)->.citySearch;\n",
      "\n",
      "        // Search for the road by name or ref\n",
      "        way[\"ref\"~\"(;|^)EXIT 144 B(;|$)\"](around.citySearch:15000)->.road;\n",
      "\n",
      "        // Output all city nodes with their coordinates\n",
      "        (.road;); /*added by auto repair*/ (._;>;); /*end of auto repair*/ out body 1; \n",
      "    \n"
     ]
    },
    {
     "name": "stderr",
     "output_type": "stream",
     "text": [
      "  0%|          | 32/8160 [01:44<6:49:59,  3.03s/it]"
     ]
    },
    {
     "name": "stdout",
     "output_type": "stream",
     "text": [
      "['I 75', 'EXIT 144 B']\n",
      "\n",
      "        [out:json][timeout:25];\n",
      "        // Define the area of interest\n",
      "        nr(id:154205298.0)->.citySearch;\n",
      "\n",
      "        // Search for the road by name or ref\n",
      "        way[\"ref\"~\"(;|^)EXIT 144 B(;|$)\"](around.citySearch:15000)->.road;\n",
      "\n",
      "        // Output all city nodes with their coordinates\n",
      "        (.road;); /*added by auto repair*/ (._;>;); /*end of auto repair*/ out body 1; \n",
      "    \n"
     ]
    },
    {
     "name": "stderr",
     "output_type": "stream",
     "text": [
      "  0%|          | 33/8160 [01:47<6:44:24,  2.99s/it]"
     ]
    },
    {
     "name": "stdout",
     "output_type": "stream",
     "text": [
      "\n",
      "        [out:json][timeout:25];\n",
      "        // Define the area of interest\n",
      "        nwr(id:151480715.0)->.citySearch;\n",
      "\n",
      "\n",
      "        // Search for the road by name or ref\n",
      "        way[\"ref\"~\"(;|^)I 40(;|$)\"](around.citySearch:15000)->.road;\n",
      "\n",
      "        // Extract nodes of type 'motorway_junction' on the road\n",
      "        node(w.road)[\"highway\"=\"motorway_junction\"][\"ref\"~\"^359([a-zA-Z]|$)\"]->.exits;\n",
      "\n",
      "        // Output all exit nodes with their coordinates\n",
      "        (.exits;); /*added by auto repair*/ (._;>;); /*end of auto repair*/ out body 1; \n",
      "    \n"
     ]
    },
    {
     "name": "stderr",
     "output_type": "stream",
     "text": [
      "  0%|          | 34/8160 [01:50<6:45:17,  2.99s/it]"
     ]
    },
    {
     "name": "stdout",
     "output_type": "stream",
     "text": [
      "\n",
      "        [out:json][timeout:25];\n",
      "        // Define the area of interest\n",
      "        nwr(id:110775.0)->.citySearch;\n",
      "\n",
      "\n",
      "        // Search for the road by name or ref\n",
      "        way[\"ref\"~\"(;|^)I 10(;|$)\"](around.citySearch:15000)->.road;\n",
      "\n",
      "        // Extract nodes of type 'motorway_junction' on the road\n",
      "        node(w.road)[\"highway\"=\"motorway_junction\"][\"ref\"~\"^200([a-zA-Z]|$)\"]->.exits;\n",
      "\n",
      "        // Output all exit nodes with their coordinates\n",
      "        (.exits;); /*added by auto repair*/ (._;>;); /*end of auto repair*/ out body 1; \n",
      "    \n"
     ]
    },
    {
     "name": "stderr",
     "output_type": "stream",
     "text": [
      "  0%|          | 35/8160 [01:53<6:47:37,  3.01s/it]"
     ]
    },
    {
     "name": "stdout",
     "output_type": "stream",
     "text": [
      "['US 41']\n",
      "\n",
      "        [out:json][timeout:25];\n",
      "        // Define the area of interest\n",
      "        nr(id:1846532.0)->.citySearch;\n",
      "\n",
      "        // Search for the road by name or ref\n",
      "        way[\"ref\"~\"(;|^)US 41(;|$)\"](around.citySearch:15000)->.road;\n",
      "\n",
      "        // Output all city nodes with their coordinates\n",
      "        (.road;); /*added by auto repair*/ (._;>;); /*end of auto repair*/ out body 1; \n",
      "    \n"
     ]
    },
    {
     "name": "stderr",
     "output_type": "stream",
     "text": [
      "  0%|          | 36/8160 [02:08<14:59:32,  6.64s/it]"
     ]
    },
    {
     "name": "stdout",
     "output_type": "stream",
     "text": [
      "\n",
      "        [out:json][timeout:25];\n",
      "        // Define the area of interest\n",
      "        nwr(id:1801527.0)->.citySearch;\n",
      "\n",
      "\n",
      "        // Search for the road by name or ref\n",
      "        way[\"ref\"~\"(;|^)I 70(;|$)\"](around.citySearch:15000)->.road;\n",
      "\n",
      "        // Extract nodes of type 'motorway_junction' on the road\n",
      "        node(w.road)[\"highway\"=\"motorway_junction\"][\"ref\"~\"^159([a-zA-Z]|$)\"]->.exits;\n",
      "\n",
      "        // Output all exit nodes with their coordinates\n",
      "        (.exits;); /*added by auto repair*/ (._;>;); /*end of auto repair*/ out body 1; \n",
      "    \n"
     ]
    },
    {
     "name": "stderr",
     "output_type": "stream",
     "text": [
      "  0%|          | 36/8160 [02:16<8:31:36,  3.78s/it] \n"
     ]
    },
    {
     "ename": "OSError",
     "evalue": "[Errno 28] No space left on device",
     "output_type": "error",
     "traceback": [
      "\u001b[1;31m---------------------------------------------------------------------------\u001b[0m",
      "\u001b[1;31mOSError\u001b[0m                                   Traceback (most recent call last)",
      "File \u001b[1;32mc:\\Users\\AbdoGad\\AppData\\Local\\Programs\\Python\\Python312\\Lib\\site-packages\\pandas\\io\\formats\\csvs.py:270\u001b[0m, in \u001b[0;36mCSVFormatter.save\u001b[1;34m(self)\u001b[0m\n\u001b[0;32m    260\u001b[0m \u001b[38;5;28mself\u001b[39m\u001b[38;5;241m.\u001b[39mwriter \u001b[38;5;241m=\u001b[39m csvlib\u001b[38;5;241m.\u001b[39mwriter(\n\u001b[0;32m    261\u001b[0m     handles\u001b[38;5;241m.\u001b[39mhandle,\n\u001b[0;32m    262\u001b[0m     lineterminator\u001b[38;5;241m=\u001b[39m\u001b[38;5;28mself\u001b[39m\u001b[38;5;241m.\u001b[39mlineterminator,\n\u001b[1;32m   (...)\u001b[0m\n\u001b[0;32m    267\u001b[0m     quotechar\u001b[38;5;241m=\u001b[39m\u001b[38;5;28mself\u001b[39m\u001b[38;5;241m.\u001b[39mquotechar,\n\u001b[0;32m    268\u001b[0m )\n\u001b[1;32m--> 270\u001b[0m \u001b[38;5;28;43mself\u001b[39;49m\u001b[38;5;241;43m.\u001b[39;49m\u001b[43m_save\u001b[49m\u001b[43m(\u001b[49m\u001b[43m)\u001b[49m\n",
      "File \u001b[1;32mc:\\Users\\AbdoGad\\AppData\\Local\\Programs\\Python\\Python312\\Lib\\site-packages\\pandas\\io\\formats\\csvs.py:275\u001b[0m, in \u001b[0;36mCSVFormatter._save\u001b[1;34m(self)\u001b[0m\n\u001b[0;32m    274\u001b[0m     \u001b[38;5;28mself\u001b[39m\u001b[38;5;241m.\u001b[39m_save_header()\n\u001b[1;32m--> 275\u001b[0m \u001b[38;5;28;43mself\u001b[39;49m\u001b[38;5;241;43m.\u001b[39;49m\u001b[43m_save_body\u001b[49m\u001b[43m(\u001b[49m\u001b[43m)\u001b[49m\n",
      "File \u001b[1;32mc:\\Users\\AbdoGad\\AppData\\Local\\Programs\\Python\\Python312\\Lib\\site-packages\\pandas\\io\\formats\\csvs.py:313\u001b[0m, in \u001b[0;36mCSVFormatter._save_body\u001b[1;34m(self)\u001b[0m\n\u001b[0;32m    312\u001b[0m     \u001b[38;5;28;01mbreak\u001b[39;00m\n\u001b[1;32m--> 313\u001b[0m \u001b[38;5;28;43mself\u001b[39;49m\u001b[38;5;241;43m.\u001b[39;49m\u001b[43m_save_chunk\u001b[49m\u001b[43m(\u001b[49m\u001b[43mstart_i\u001b[49m\u001b[43m,\u001b[49m\u001b[43m \u001b[49m\u001b[43mend_i\u001b[49m\u001b[43m)\u001b[49m\n",
      "File \u001b[1;32mc:\\Users\\AbdoGad\\AppData\\Local\\Programs\\Python\\Python312\\Lib\\site-packages\\pandas\\io\\formats\\csvs.py:324\u001b[0m, in \u001b[0;36mCSVFormatter._save_chunk\u001b[1;34m(self, start_i, end_i)\u001b[0m\n\u001b[0;32m    323\u001b[0m ix \u001b[38;5;241m=\u001b[39m \u001b[38;5;28mself\u001b[39m\u001b[38;5;241m.\u001b[39mdata_index[slicer]\u001b[38;5;241m.\u001b[39m_get_values_for_csv(\u001b[38;5;241m*\u001b[39m\u001b[38;5;241m*\u001b[39m\u001b[38;5;28mself\u001b[39m\u001b[38;5;241m.\u001b[39m_number_format)\n\u001b[1;32m--> 324\u001b[0m \u001b[43mlibwriters\u001b[49m\u001b[38;5;241;43m.\u001b[39;49m\u001b[43mwrite_csv_rows\u001b[49m\u001b[43m(\u001b[49m\n\u001b[0;32m    325\u001b[0m \u001b[43m    \u001b[49m\u001b[43mdata\u001b[49m\u001b[43m,\u001b[49m\n\u001b[0;32m    326\u001b[0m \u001b[43m    \u001b[49m\u001b[43mix\u001b[49m\u001b[43m,\u001b[49m\n\u001b[0;32m    327\u001b[0m \u001b[43m    \u001b[49m\u001b[38;5;28;43mself\u001b[39;49m\u001b[38;5;241;43m.\u001b[39;49m\u001b[43mnlevels\u001b[49m\u001b[43m,\u001b[49m\n\u001b[0;32m    328\u001b[0m \u001b[43m    \u001b[49m\u001b[38;5;28;43mself\u001b[39;49m\u001b[38;5;241;43m.\u001b[39;49m\u001b[43mcols\u001b[49m\u001b[43m,\u001b[49m\n\u001b[0;32m    329\u001b[0m \u001b[43m    \u001b[49m\u001b[38;5;28;43mself\u001b[39;49m\u001b[38;5;241;43m.\u001b[39;49m\u001b[43mwriter\u001b[49m\u001b[43m,\u001b[49m\n\u001b[0;32m    330\u001b[0m \u001b[43m\u001b[49m\u001b[43m)\u001b[49m\n",
      "File \u001b[1;32mwriters.pyx:76\u001b[0m, in \u001b[0;36mpandas._libs.writers.write_csv_rows\u001b[1;34m()\u001b[0m\n",
      "\u001b[1;31mOSError\u001b[0m: [Errno 28] No space left on device",
      "\nDuring handling of the above exception, another exception occurred:\n",
      "\u001b[1;31mOSError\u001b[0m                                   Traceback (most recent call last)",
      "\u001b[1;31mOSError\u001b[0m: [Errno 28] No space left on device",
      "\nDuring handling of the above exception, another exception occurred:\n",
      "\u001b[1;31mOSError\u001b[0m                                   Traceback (most recent call last)",
      "Cell \u001b[1;32mIn[38], line 47\u001b[0m\n\u001b[0;32m     44\u001b[0m     \u001b[38;5;28;01mreturn\u001b[39;00m df\n\u001b[0;32m     46\u001b[0m \u001b[38;5;66;03m# Run the function\u001b[39;00m\n\u001b[1;32m---> 47\u001b[0m df \u001b[38;5;241m=\u001b[39m \u001b[43mget_coordinates_from_csv\u001b[49m\u001b[43m(\u001b[49m\u001b[38;5;124;43m'\u001b[39;49m\u001b[38;5;124;43mnew_fuel.csv\u001b[39;49m\u001b[38;5;124;43m'\u001b[39;49m\u001b[43m)\u001b[49m\n",
      "Cell \u001b[1;32mIn[38], line 42\u001b[0m, in \u001b[0;36mget_coordinates_from_csv\u001b[1;34m(input_file)\u001b[0m\n\u001b[0;32m     39\u001b[0m         df\u001b[38;5;241m.\u001b[39mat[idx, \u001b[38;5;124m'\u001b[39m\u001b[38;5;124mlongitude\u001b[39m\u001b[38;5;124m'\u001b[39m] \u001b[38;5;241m=\u001b[39m lon\n\u001b[0;32m     41\u001b[0m         \u001b[38;5;66;03m# Save checkpoint after each iteration\u001b[39;00m\n\u001b[1;32m---> 42\u001b[0m         \u001b[43mdf\u001b[49m\u001b[38;5;241;43m.\u001b[39;49m\u001b[43mto_csv\u001b[49m\u001b[43m(\u001b[49m\u001b[38;5;124;43m'\u001b[39;49m\u001b[38;5;124;43mcheckpoint.csv\u001b[39;49m\u001b[38;5;124;43m'\u001b[39;49m\u001b[43m,\u001b[49m\u001b[43m \u001b[49m\u001b[43mindex\u001b[49m\u001b[38;5;241;43m=\u001b[39;49m\u001b[38;5;28;43;01mFalse\u001b[39;49;00m\u001b[43m)\u001b[49m\n\u001b[0;32m     44\u001b[0m \u001b[38;5;28;01mreturn\u001b[39;00m df\n",
      "File \u001b[1;32mc:\\Users\\AbdoGad\\AppData\\Local\\Programs\\Python\\Python312\\Lib\\site-packages\\pandas\\util\\_decorators.py:333\u001b[0m, in \u001b[0;36mdeprecate_nonkeyword_arguments.<locals>.decorate.<locals>.wrapper\u001b[1;34m(*args, **kwargs)\u001b[0m\n\u001b[0;32m    327\u001b[0m \u001b[38;5;28;01mif\u001b[39;00m \u001b[38;5;28mlen\u001b[39m(args) \u001b[38;5;241m>\u001b[39m num_allow_args:\n\u001b[0;32m    328\u001b[0m     warnings\u001b[38;5;241m.\u001b[39mwarn(\n\u001b[0;32m    329\u001b[0m         msg\u001b[38;5;241m.\u001b[39mformat(arguments\u001b[38;5;241m=\u001b[39m_format_argument_list(allow_args)),\n\u001b[0;32m    330\u001b[0m         \u001b[38;5;167;01mFutureWarning\u001b[39;00m,\n\u001b[0;32m    331\u001b[0m         stacklevel\u001b[38;5;241m=\u001b[39mfind_stack_level(),\n\u001b[0;32m    332\u001b[0m     )\n\u001b[1;32m--> 333\u001b[0m \u001b[38;5;28;01mreturn\u001b[39;00m \u001b[43mfunc\u001b[49m\u001b[43m(\u001b[49m\u001b[38;5;241;43m*\u001b[39;49m\u001b[43margs\u001b[49m\u001b[43m,\u001b[49m\u001b[43m \u001b[49m\u001b[38;5;241;43m*\u001b[39;49m\u001b[38;5;241;43m*\u001b[39;49m\u001b[43mkwargs\u001b[49m\u001b[43m)\u001b[49m\n",
      "File \u001b[1;32mc:\\Users\\AbdoGad\\AppData\\Local\\Programs\\Python\\Python312\\Lib\\site-packages\\pandas\\core\\generic.py:3964\u001b[0m, in \u001b[0;36mNDFrame.to_csv\u001b[1;34m(self, path_or_buf, sep, na_rep, float_format, columns, header, index, index_label, mode, encoding, compression, quoting, quotechar, lineterminator, chunksize, date_format, doublequote, escapechar, decimal, errors, storage_options)\u001b[0m\n\u001b[0;32m   3953\u001b[0m df \u001b[38;5;241m=\u001b[39m \u001b[38;5;28mself\u001b[39m \u001b[38;5;28;01mif\u001b[39;00m \u001b[38;5;28misinstance\u001b[39m(\u001b[38;5;28mself\u001b[39m, ABCDataFrame) \u001b[38;5;28;01melse\u001b[39;00m \u001b[38;5;28mself\u001b[39m\u001b[38;5;241m.\u001b[39mto_frame()\n\u001b[0;32m   3955\u001b[0m formatter \u001b[38;5;241m=\u001b[39m DataFrameFormatter(\n\u001b[0;32m   3956\u001b[0m     frame\u001b[38;5;241m=\u001b[39mdf,\n\u001b[0;32m   3957\u001b[0m     header\u001b[38;5;241m=\u001b[39mheader,\n\u001b[1;32m   (...)\u001b[0m\n\u001b[0;32m   3961\u001b[0m     decimal\u001b[38;5;241m=\u001b[39mdecimal,\n\u001b[0;32m   3962\u001b[0m )\n\u001b[1;32m-> 3964\u001b[0m \u001b[38;5;28;01mreturn\u001b[39;00m \u001b[43mDataFrameRenderer\u001b[49m\u001b[43m(\u001b[49m\u001b[43mformatter\u001b[49m\u001b[43m)\u001b[49m\u001b[38;5;241;43m.\u001b[39;49m\u001b[43mto_csv\u001b[49m\u001b[43m(\u001b[49m\n\u001b[0;32m   3965\u001b[0m \u001b[43m    \u001b[49m\u001b[43mpath_or_buf\u001b[49m\u001b[43m,\u001b[49m\n\u001b[0;32m   3966\u001b[0m \u001b[43m    \u001b[49m\u001b[43mlineterminator\u001b[49m\u001b[38;5;241;43m=\u001b[39;49m\u001b[43mlineterminator\u001b[49m\u001b[43m,\u001b[49m\n\u001b[0;32m   3967\u001b[0m \u001b[43m    \u001b[49m\u001b[43msep\u001b[49m\u001b[38;5;241;43m=\u001b[39;49m\u001b[43msep\u001b[49m\u001b[43m,\u001b[49m\n\u001b[0;32m   3968\u001b[0m \u001b[43m    \u001b[49m\u001b[43mencoding\u001b[49m\u001b[38;5;241;43m=\u001b[39;49m\u001b[43mencoding\u001b[49m\u001b[43m,\u001b[49m\n\u001b[0;32m   3969\u001b[0m \u001b[43m    \u001b[49m\u001b[43merrors\u001b[49m\u001b[38;5;241;43m=\u001b[39;49m\u001b[43merrors\u001b[49m\u001b[43m,\u001b[49m\n\u001b[0;32m   3970\u001b[0m \u001b[43m    \u001b[49m\u001b[43mcompression\u001b[49m\u001b[38;5;241;43m=\u001b[39;49m\u001b[43mcompression\u001b[49m\u001b[43m,\u001b[49m\n\u001b[0;32m   3971\u001b[0m \u001b[43m    \u001b[49m\u001b[43mquoting\u001b[49m\u001b[38;5;241;43m=\u001b[39;49m\u001b[43mquoting\u001b[49m\u001b[43m,\u001b[49m\n\u001b[0;32m   3972\u001b[0m \u001b[43m    \u001b[49m\u001b[43mcolumns\u001b[49m\u001b[38;5;241;43m=\u001b[39;49m\u001b[43mcolumns\u001b[49m\u001b[43m,\u001b[49m\n\u001b[0;32m   3973\u001b[0m \u001b[43m    \u001b[49m\u001b[43mindex_label\u001b[49m\u001b[38;5;241;43m=\u001b[39;49m\u001b[43mindex_label\u001b[49m\u001b[43m,\u001b[49m\n\u001b[0;32m   3974\u001b[0m \u001b[43m    \u001b[49m\u001b[43mmode\u001b[49m\u001b[38;5;241;43m=\u001b[39;49m\u001b[43mmode\u001b[49m\u001b[43m,\u001b[49m\n\u001b[0;32m   3975\u001b[0m \u001b[43m    \u001b[49m\u001b[43mchunksize\u001b[49m\u001b[38;5;241;43m=\u001b[39;49m\u001b[43mchunksize\u001b[49m\u001b[43m,\u001b[49m\n\u001b[0;32m   3976\u001b[0m \u001b[43m    \u001b[49m\u001b[43mquotechar\u001b[49m\u001b[38;5;241;43m=\u001b[39;49m\u001b[43mquotechar\u001b[49m\u001b[43m,\u001b[49m\n\u001b[0;32m   3977\u001b[0m \u001b[43m    \u001b[49m\u001b[43mdate_format\u001b[49m\u001b[38;5;241;43m=\u001b[39;49m\u001b[43mdate_format\u001b[49m\u001b[43m,\u001b[49m\n\u001b[0;32m   3978\u001b[0m \u001b[43m    \u001b[49m\u001b[43mdoublequote\u001b[49m\u001b[38;5;241;43m=\u001b[39;49m\u001b[43mdoublequote\u001b[49m\u001b[43m,\u001b[49m\n\u001b[0;32m   3979\u001b[0m \u001b[43m    \u001b[49m\u001b[43mescapechar\u001b[49m\u001b[38;5;241;43m=\u001b[39;49m\u001b[43mescapechar\u001b[49m\u001b[43m,\u001b[49m\n\u001b[0;32m   3980\u001b[0m \u001b[43m    \u001b[49m\u001b[43mstorage_options\u001b[49m\u001b[38;5;241;43m=\u001b[39;49m\u001b[43mstorage_options\u001b[49m\u001b[43m,\u001b[49m\n\u001b[0;32m   3981\u001b[0m \u001b[43m\u001b[49m\u001b[43m)\u001b[49m\n",
      "File \u001b[1;32mc:\\Users\\AbdoGad\\AppData\\Local\\Programs\\Python\\Python312\\Lib\\site-packages\\pandas\\io\\formats\\format.py:1014\u001b[0m, in \u001b[0;36mDataFrameRenderer.to_csv\u001b[1;34m(self, path_or_buf, encoding, sep, columns, index_label, mode, compression, quoting, quotechar, lineterminator, chunksize, date_format, doublequote, escapechar, errors, storage_options)\u001b[0m\n\u001b[0;32m    993\u001b[0m     created_buffer \u001b[38;5;241m=\u001b[39m \u001b[38;5;28;01mFalse\u001b[39;00m\n\u001b[0;32m    995\u001b[0m csv_formatter \u001b[38;5;241m=\u001b[39m CSVFormatter(\n\u001b[0;32m    996\u001b[0m     path_or_buf\u001b[38;5;241m=\u001b[39mpath_or_buf,\n\u001b[0;32m    997\u001b[0m     lineterminator\u001b[38;5;241m=\u001b[39mlineterminator,\n\u001b[1;32m   (...)\u001b[0m\n\u001b[0;32m   1012\u001b[0m     formatter\u001b[38;5;241m=\u001b[39m\u001b[38;5;28mself\u001b[39m\u001b[38;5;241m.\u001b[39mfmt,\n\u001b[0;32m   1013\u001b[0m )\n\u001b[1;32m-> 1014\u001b[0m \u001b[43mcsv_formatter\u001b[49m\u001b[38;5;241;43m.\u001b[39;49m\u001b[43msave\u001b[49m\u001b[43m(\u001b[49m\u001b[43m)\u001b[49m\n\u001b[0;32m   1016\u001b[0m \u001b[38;5;28;01mif\u001b[39;00m created_buffer:\n\u001b[0;32m   1017\u001b[0m     \u001b[38;5;28;01massert\u001b[39;00m \u001b[38;5;28misinstance\u001b[39m(path_or_buf, StringIO)\n",
      "File \u001b[1;32mc:\\Users\\AbdoGad\\AppData\\Local\\Programs\\Python\\Python312\\Lib\\site-packages\\pandas\\io\\formats\\csvs.py:251\u001b[0m, in \u001b[0;36mCSVFormatter.save\u001b[1;34m(self)\u001b[0m\n\u001b[0;32m    247\u001b[0m \u001b[38;5;250m\u001b[39m\u001b[38;5;124;03m\"\"\"\u001b[39;00m\n\u001b[0;32m    248\u001b[0m \u001b[38;5;124;03mCreate the writer & save.\u001b[39;00m\n\u001b[0;32m    249\u001b[0m \u001b[38;5;124;03m\"\"\"\u001b[39;00m\n\u001b[0;32m    250\u001b[0m \u001b[38;5;66;03m# apply compression and byte/text conversion\u001b[39;00m\n\u001b[1;32m--> 251\u001b[0m \u001b[43m\u001b[49m\u001b[38;5;28;43;01mwith\u001b[39;49;00m\u001b[43m \u001b[49m\u001b[43mget_handle\u001b[49m\u001b[43m(\u001b[49m\n\u001b[0;32m    252\u001b[0m \u001b[43m    \u001b[49m\u001b[38;5;28;43mself\u001b[39;49m\u001b[38;5;241;43m.\u001b[39;49m\u001b[43mfilepath_or_buffer\u001b[49m\u001b[43m,\u001b[49m\n\u001b[0;32m    253\u001b[0m \u001b[43m    \u001b[49m\u001b[38;5;28;43mself\u001b[39;49m\u001b[38;5;241;43m.\u001b[39;49m\u001b[43mmode\u001b[49m\u001b[43m,\u001b[49m\n\u001b[0;32m    254\u001b[0m \u001b[43m    \u001b[49m\u001b[43mencoding\u001b[49m\u001b[38;5;241;43m=\u001b[39;49m\u001b[38;5;28;43mself\u001b[39;49m\u001b[38;5;241;43m.\u001b[39;49m\u001b[43mencoding\u001b[49m\u001b[43m,\u001b[49m\n\u001b[0;32m    255\u001b[0m \u001b[43m    \u001b[49m\u001b[43merrors\u001b[49m\u001b[38;5;241;43m=\u001b[39;49m\u001b[38;5;28;43mself\u001b[39;49m\u001b[38;5;241;43m.\u001b[39;49m\u001b[43merrors\u001b[49m\u001b[43m,\u001b[49m\n\u001b[0;32m    256\u001b[0m \u001b[43m    \u001b[49m\u001b[43mcompression\u001b[49m\u001b[38;5;241;43m=\u001b[39;49m\u001b[38;5;28;43mself\u001b[39;49m\u001b[38;5;241;43m.\u001b[39;49m\u001b[43mcompression\u001b[49m\u001b[43m,\u001b[49m\n\u001b[0;32m    257\u001b[0m \u001b[43m    \u001b[49m\u001b[43mstorage_options\u001b[49m\u001b[38;5;241;43m=\u001b[39;49m\u001b[38;5;28;43mself\u001b[39;49m\u001b[38;5;241;43m.\u001b[39;49m\u001b[43mstorage_options\u001b[49m\u001b[43m,\u001b[49m\n\u001b[0;32m    258\u001b[0m \u001b[43m\u001b[49m\u001b[43m)\u001b[49m\u001b[43m \u001b[49m\u001b[38;5;28;43;01mas\u001b[39;49;00m\u001b[43m \u001b[49m\u001b[43mhandles\u001b[49m\u001b[43m:\u001b[49m\n\u001b[0;32m    259\u001b[0m \u001b[43m    \u001b[49m\u001b[38;5;66;43;03m# Note: self.encoding is irrelevant here\u001b[39;49;00m\n\u001b[0;32m    260\u001b[0m \u001b[43m    \u001b[49m\u001b[38;5;28;43mself\u001b[39;49m\u001b[38;5;241;43m.\u001b[39;49m\u001b[43mwriter\u001b[49m\u001b[43m \u001b[49m\u001b[38;5;241;43m=\u001b[39;49m\u001b[43m \u001b[49m\u001b[43mcsvlib\u001b[49m\u001b[38;5;241;43m.\u001b[39;49m\u001b[43mwriter\u001b[49m\u001b[43m(\u001b[49m\n\u001b[0;32m    261\u001b[0m \u001b[43m        \u001b[49m\u001b[43mhandles\u001b[49m\u001b[38;5;241;43m.\u001b[39;49m\u001b[43mhandle\u001b[49m\u001b[43m,\u001b[49m\n\u001b[0;32m    262\u001b[0m \u001b[43m        \u001b[49m\u001b[43mlineterminator\u001b[49m\u001b[38;5;241;43m=\u001b[39;49m\u001b[38;5;28;43mself\u001b[39;49m\u001b[38;5;241;43m.\u001b[39;49m\u001b[43mlineterminator\u001b[49m\u001b[43m,\u001b[49m\n\u001b[1;32m   (...)\u001b[0m\n\u001b[0;32m    267\u001b[0m \u001b[43m        \u001b[49m\u001b[43mquotechar\u001b[49m\u001b[38;5;241;43m=\u001b[39;49m\u001b[38;5;28;43mself\u001b[39;49m\u001b[38;5;241;43m.\u001b[39;49m\u001b[43mquotechar\u001b[49m\u001b[43m,\u001b[49m\n\u001b[0;32m    268\u001b[0m \u001b[43m    \u001b[49m\u001b[43m)\u001b[49m\n\u001b[0;32m    270\u001b[0m \u001b[43m    \u001b[49m\u001b[38;5;28;43mself\u001b[39;49m\u001b[38;5;241;43m.\u001b[39;49m\u001b[43m_save\u001b[49m\u001b[43m(\u001b[49m\u001b[43m)\u001b[49m\n",
      "File \u001b[1;32mc:\\Users\\AbdoGad\\AppData\\Local\\Programs\\Python\\Python312\\Lib\\site-packages\\pandas\\io\\common.py:157\u001b[0m, in \u001b[0;36mIOHandles.__exit__\u001b[1;34m(self, exc_type, exc_value, traceback)\u001b[0m\n\u001b[0;32m    151\u001b[0m \u001b[38;5;28;01mdef\u001b[39;00m \u001b[38;5;21m__exit__\u001b[39m(\n\u001b[0;32m    152\u001b[0m     \u001b[38;5;28mself\u001b[39m,\n\u001b[0;32m    153\u001b[0m     exc_type: \u001b[38;5;28mtype\u001b[39m[\u001b[38;5;167;01mBaseException\u001b[39;00m] \u001b[38;5;241m|\u001b[39m \u001b[38;5;28;01mNone\u001b[39;00m,\n\u001b[0;32m    154\u001b[0m     exc_value: \u001b[38;5;167;01mBaseException\u001b[39;00m \u001b[38;5;241m|\u001b[39m \u001b[38;5;28;01mNone\u001b[39;00m,\n\u001b[0;32m    155\u001b[0m     traceback: TracebackType \u001b[38;5;241m|\u001b[39m \u001b[38;5;28;01mNone\u001b[39;00m,\n\u001b[0;32m    156\u001b[0m ) \u001b[38;5;241m-\u001b[39m\u001b[38;5;241m>\u001b[39m \u001b[38;5;28;01mNone\u001b[39;00m:\n\u001b[1;32m--> 157\u001b[0m     \u001b[38;5;28;43mself\u001b[39;49m\u001b[38;5;241;43m.\u001b[39;49m\u001b[43mclose\u001b[49m\u001b[43m(\u001b[49m\u001b[43m)\u001b[49m\n",
      "File \u001b[1;32mc:\\Users\\AbdoGad\\AppData\\Local\\Programs\\Python\\Python312\\Lib\\site-packages\\pandas\\io\\common.py:144\u001b[0m, in \u001b[0;36mIOHandles.close\u001b[1;34m(self)\u001b[0m\n\u001b[0;32m    142\u001b[0m     \u001b[38;5;28mself\u001b[39m\u001b[38;5;241m.\u001b[39mcreated_handles\u001b[38;5;241m.\u001b[39mremove(\u001b[38;5;28mself\u001b[39m\u001b[38;5;241m.\u001b[39mhandle)\n\u001b[0;32m    143\u001b[0m \u001b[38;5;28;01mfor\u001b[39;00m handle \u001b[38;5;129;01min\u001b[39;00m \u001b[38;5;28mself\u001b[39m\u001b[38;5;241m.\u001b[39mcreated_handles:\n\u001b[1;32m--> 144\u001b[0m     \u001b[43mhandle\u001b[49m\u001b[38;5;241;43m.\u001b[39;49m\u001b[43mclose\u001b[49m\u001b[43m(\u001b[49m\u001b[43m)\u001b[49m\n\u001b[0;32m    145\u001b[0m \u001b[38;5;28mself\u001b[39m\u001b[38;5;241m.\u001b[39mcreated_handles \u001b[38;5;241m=\u001b[39m []\n\u001b[0;32m    146\u001b[0m \u001b[38;5;28mself\u001b[39m\u001b[38;5;241m.\u001b[39mis_wrapped \u001b[38;5;241m=\u001b[39m \u001b[38;5;28;01mFalse\u001b[39;00m\n",
      "\u001b[1;31mOSError\u001b[0m: [Errno 28] No space left on device"
     ]
    }
   ],
   "source": [
    "def get_coordinates_from_csv(input_file):\n",
    "    # Read the CSV file\n",
    "    df = pd.read_csv(input_file)\n",
    "    \n",
    "    # Create empty lists to store coordinates\n",
    "    coordinates = []\n",
    "\n",
    "    \n",
    "    # Iterate through each row\n",
    "    for idx, row in tqdm(df.iterrows(), total=len(df)):\n",
    "        # Parse the address\n",
    "        road_to_exit, exit_number, roads_inter, fall_back_road = parse_address(row['Address'])\n",
    "        \n",
    "        # Get query type\n",
    "        query_type = get_query_type(road_to_exit, exit_number, roads_inter, fall_back_road)\n",
    "        \n",
    "        if query_type:\n",
    "            # Get location data from Overpass\n",
    "            result = get_location_from_overpass(\n",
    "                query_type, \n",
    "                row['osm_id'], \n",
    "                row['State'],\n",
    "                road_to_exit,\n",
    "                exit_number,\n",
    "                roads_inter,\n",
    "                fall_back_road\n",
    "            )\n",
    "            \n",
    "            # Extract coordinates if results exist\n",
    "            if result and 'elements' in result and len(result['elements']) > 0:\n",
    "                # Get first element's coordinates\n",
    "                element = result['elements'][0]\n",
    "                lat = element['lat'] if 'lat' in element else None\n",
    "                lon = element['lon'] if 'lon' in element else None\n",
    "            else:\n",
    "                lat, lon = None, None\n",
    "                \n",
    "            # Add coordinates to original dataframe\n",
    "            df.at[idx, 'latitude'] = lat\n",
    "            df.at[idx, 'longitude'] = lon\n",
    "            \n",
    "            df.to_csv('checkpoint.csv', index=False)        \n",
    "    \n",
    "    return df\n",
    "\n",
    "# Run the function\n",
    "df = get_coordinates_from_csv('new_fuel.csv')"
   ]
  },
  {
   "cell_type": "code",
   "execution_count": null,
   "metadata": {},
   "outputs": [],
   "source": []
  }
 ],
 "metadata": {
  "kernelspec": {
   "display_name": "Python 3",
   "language": "python",
   "name": "python3"
  },
  "language_info": {
   "codemirror_mode": {
    "name": "ipython",
    "version": 3
   },
   "file_extension": ".py",
   "mimetype": "text/x-python",
   "name": "python",
   "nbconvert_exporter": "python",
   "pygments_lexer": "ipython3",
   "version": "3.12.2"
  }
 },
 "nbformat": 4,
 "nbformat_minor": 2
}
